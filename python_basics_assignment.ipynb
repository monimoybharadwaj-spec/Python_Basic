{
  "nbformat": 4,
  "nbformat_minor": 0,
  "metadata": {
    "colab": {
      "provenance": []
    },
    "kernelspec": {
      "name": "python3",
      "display_name": "Python 3"
    },
    "language_info": {
      "name": "python"
    }
  },
  "cells": [
    {
      "cell_type": "markdown",
      "source": [
        "# **Theoretical Questions**"
      ],
      "metadata": {
        "id": "KE81J4Zqhd13"
      }
    },
    {
      "cell_type": "markdown",
      "source": [
        "**Question 1**. What is Python, and why is it popular?\n",
        "\n",
        "**Answer**: Python is a high-level, interpreted programming language known for its readability and versatility.\n",
        "  Python is popular due to the following reasons:\n",
        "\n",
        "1) Easy to learn- Simple and beginner-friendly syntax\n",
        "\n",
        "2) Readable code- Looks like plain English\n",
        "\n",
        "3) Huge library support- Has tons of built-in and third-party modules\n",
        "\n",
        "4) Versatile- Used in web, data science, automation, AI, etc.\n",
        "\n",
        "5) Cross-platform- Works on Windows, macOS, Linux\n",
        "\n",
        "6) Strong community- Active forums, tutorials, and support\n",
        "\n",
        "7) Great for prototyping- Fast to write and test ideas\n",
        "\n",
        "8) Integrates well- Works with other languages and tools\n"
      ],
      "metadata": {
        "id": "sAy00duObEoB"
      }
    },
    {
      "cell_type": "markdown",
      "source": [
        "**Question 2**. What is an interpreter in Python?\n",
        "\n",
        "**Answer**: A Python interpreter is a program that converts Python code into machine-readable instructions and runs them, enabling the user to execute Python scripts and view results instantly. The Python interpreter reads the source code, compiles it into bytecode (.pyc), and then executes it using the Python Virtual Machine (PVM). This allows Python to run code line by line, making it easy to test and debug."
      ],
      "metadata": {
        "id": "tIQICc1fb7vV"
      }
    },
    {
      "cell_type": "markdown",
      "source": [
        "**Question 3**. What are pre-defined keywords in Python?\n",
        "\n",
        "**Answer**: Pre-defined keywords in Python are reserved words that have special meaning. Examples of keywords are: if, else, for, while, return, break, continue, etc."
      ],
      "metadata": {
        "id": "5MJ3GkI_eI-Q"
      }
    },
    {
      "cell_type": "markdown",
      "source": [
        "**Question 4**. Can keywords be used as variable names?\n",
        "\n",
        "**Answer**: No, keywords cannot be used as variable names. Allowing them to be used as variable names would cause confusion for the interpreter which would lead to syntax errors."
      ],
      "metadata": {
        "id": "BOhdvxGXePkZ"
      }
    },
    {
      "cell_type": "markdown",
      "source": [
        "**Question 5**. What is mutability in Python?\n",
        "\n",
        "**Answer**: Mutability in Python refers to whether an object can be changed once it is created.\n",
        "Mutable objects like lists can be changed once they are created while immutable objects like tuples cannot be changed."
      ],
      "metadata": {
        "id": "9H4D5c6Ye65Q"
      }
    },
    {
      "cell_type": "markdown",
      "source": [
        "**Question 6**. Why are lists mutable, but tuples are immutable?\n",
        "\n",
        "**Answer**: Lists are mutable because they are designed to store data that can change i.e., elements can be added, removed, or modified. This flexibility makes lists useful for dynamic collections. On the other hand, tuples are immutable because they are intended to hold fixed data that should not be altered, such as coordinates or constant values. Their immutability ensures data integrity and allows Python to optimize performance when handling them."
      ],
      "metadata": {
        "id": "EEK6qB0TgWaQ"
      }
    },
    {
      "cell_type": "markdown",
      "source": [
        "**Question 7**. What is the difference between \"==\" and \"is\" operators in Python?\n",
        "\n",
        "**Answer**: In Python, \"==\" is a comparison operator which compares two values and checks whether the two values are equal whereas \"is\" is an identity opeartor which checks whether two variables refer to the same object in memory."
      ],
      "metadata": {
        "id": "mQE96f9MhZJk"
      }
    },
    {
      "cell_type": "markdown",
      "source": [
        "**Question 8**. What are logical operators in Python?\n",
        "\n",
        "**Answer**:  Logical operators in Python are used to combine multiple conditional statements. The three logical operators are: and, or, and not."
      ],
      "metadata": {
        "id": "QXiF0kXljw6U"
      }
    },
    {
      "cell_type": "markdown",
      "source": [
        "**Question 9**. What is type casting in Python?\n",
        "\n",
        "**Answer**: Type casting in Python is the process of converting one data type to another. Example:\n",
        "\n",
        "a = \"2\"\n",
        "\n",
        "b = 3\n",
        "\n",
        "int(a) + b"
      ],
      "metadata": {
        "id": "n2oHOtggkvKt"
      }
    },
    {
      "cell_type": "markdown",
      "source": [
        "**Question 10**. What is the difference between implicit and explicit typecasting?\n",
        "\n",
        "**Answer**: Implicit typecasting is done automatically by Python when it converts one data type to another during an operation, without the programmer's involvement. Example:\n",
        "\n",
        "a = 5.2 + 3\n",
        "\n",
        "print(type(a))\n",
        "\n",
        "This will give the type as float.\n",
        "\n",
        "Explicit typecasting is done manually using built-in functions like int(), float(), str(), and bool() to convert one data type into another as required. Example:\n",
        "\n",
        "b = 5.2\n",
        "\n",
        "b = int(b)\n",
        "\n",
        "print(type(b))\n",
        "\n",
        "This will give the type as integer."
      ],
      "metadata": {
        "id": "EGG7DECtlj0x"
      }
    },
    {
      "cell_type": "markdown",
      "source": [
        "**Question 11**. What is the purpose of conditional statements in Python?\n",
        "\n",
        "**Answer**: Conditional statements in Python allows the program to make decisions and execute certain blocks of code only when specific conditions are met.. Example are: if, if else, if elif else."
      ],
      "metadata": {
        "id": "_im8_GI8ng--"
      }
    },
    {
      "cell_type": "markdown",
      "source": [
        "**Question 12**. How does the elif statement work?\n",
        "\n",
        "**Answer**: The elif statement in Python is used after an if statement to check another condition only if the previous if (or elif) condition was False.\n",
        "It allows the user to test multiple conditions one by one, and the first condition that evaluates to True will run its block of code. After that, the rest of the conditions are skipped."
      ],
      "metadata": {
        "id": "L9Us7R2YoqhF"
      }
    },
    {
      "cell_type": "markdown",
      "source": [
        "**Question 13**. What is the difference between for and while loops?\n",
        "\n",
        "**Answer**: In Python, a for loop is used when the number of iterations is known beforehand, often to iterate over sequences like lists, strings, or ranges. On the other hand, a while loop is used when the number of iterations is not known in advance and the loop continues to run as long as a given condition remains True."
      ],
      "metadata": {
        "id": "zy3MGOsh6cx8"
      }
    },
    {
      "cell_type": "markdown",
      "source": [
        "**Question 14**.  Describe a scenario where a while loop is more suitable than a for loop.\n",
        "\n",
        "**Answer**: Example of a scenario where the user is continuously being asked to enter the correct password until they get it right.\n",
        "\n",
        "password = \"\"\n",
        "\n",
        "while password != \"MyDesktop123\":\n",
        "\n",
        "    password = input(\"Enter password: \")\n",
        "\n",
        "print(\"Logging in.\")\n",
        "\n",
        "Here, the loop runs an unknown number of times until the correct password is entered, which makes a while loop more appropriate than a for loop.\n"
      ],
      "metadata": {
        "id": "ri-Z_ixI63B6"
      }
    },
    {
      "cell_type": "markdown",
      "source": [
        "# **Practical Questions**"
      ],
      "metadata": {
        "id": "k9sYecRdhkiR"
      }
    },
    {
      "cell_type": "code",
      "source": [
        "# Question 1. Write a Python program to print \"Hello, World!\"\n",
        "\n",
        "# Answer:\n",
        "\n",
        "print(\"Hello, World!\")"
      ],
      "metadata": {
        "colab": {
          "base_uri": "https://localhost:8080/"
        },
        "id": "zLOTHqeCOJLI",
        "outputId": "64578370-f094-47d6-a7f8-24d730f16607"
      },
      "execution_count": 2,
      "outputs": [
        {
          "output_type": "stream",
          "name": "stdout",
          "text": [
            "Hello, World!\n"
          ]
        }
      ]
    },
    {
      "cell_type": "code",
      "source": [
        "# Question 2. Write a Python program that displays your name and age.\n",
        "\n",
        "# Answer:\n",
        "\n",
        "Name = \"Monimoy Bharadwaj\"\n",
        "Age = 23\n",
        "print(\"My name is\", Name, \"and I am\", Age, \"years old.\")"
      ],
      "metadata": {
        "colab": {
          "base_uri": "https://localhost:8080/"
        },
        "id": "QyuPzCnbOr3-",
        "outputId": "a46c4722-faf9-41fb-b159-b87e431842dc"
      },
      "execution_count": 3,
      "outputs": [
        {
          "output_type": "stream",
          "name": "stdout",
          "text": [
            "My name is Monimoy Bharadwaj and I am 23 years old.\n"
          ]
        }
      ]
    },
    {
      "cell_type": "code",
      "source": [
        "# Question 3. Write code to print all the pre-defined keywords in Python using the keyword library.\n",
        "\n",
        "# Answer:\n",
        "\n",
        "import keyword\n",
        "print(keyword.kwlist)"
      ],
      "metadata": {
        "colab": {
          "base_uri": "https://localhost:8080/"
        },
        "id": "fa-bnzYCWTH9",
        "outputId": "adc8ad59-84d0-4425-811f-9475b92aa3b7"
      },
      "execution_count": 5,
      "outputs": [
        {
          "output_type": "stream",
          "name": "stdout",
          "text": [
            "['False', 'None', 'True', 'and', 'as', 'assert', 'async', 'await', 'break', 'class', 'continue', 'def', 'del', 'elif', 'else', 'except', 'finally', 'for', 'from', 'global', 'if', 'import', 'in', 'is', 'lambda', 'nonlocal', 'not', 'or', 'pass', 'raise', 'return', 'try', 'while', 'with', 'yield']\n"
          ]
        }
      ]
    },
    {
      "cell_type": "code",
      "source": [
        "# Question 4. Write a program that checks if a given word is a Python keyword.\n",
        "\n",
        "# Answer:\n",
        "\n",
        "import keyword\n",
        "word = input(\"Enter a word: \")\n",
        "if keyword.iskeyword(word):\n",
        "  print(f\"{word} is a Python keyword.\")\n",
        "else:\n",
        "  print(f\"{word} is not a Python keyword.\")"
      ],
      "metadata": {
        "colab": {
          "base_uri": "https://localhost:8080/"
        },
        "id": "CkQ5LJJJWv1u",
        "outputId": "46dcf40b-29fe-4e88-d346-f7e1a8a5612b"
      },
      "execution_count": 10,
      "outputs": [
        {
          "output_type": "stream",
          "name": "stdout",
          "text": [
            "Enter a word: True\n",
            "True is a Python keyword.\n"
          ]
        }
      ]
    },
    {
      "cell_type": "code",
      "source": [
        "# Question 5. Create a list and tuple in Python, and demonstrate how attempting to change an element works differently for each.\n",
        "\n",
        "# Answer:\n",
        "\n",
        "# List\n",
        "lst1 = [1, 2, 3, 4, \"Apple\"]\n",
        "print(\"The given list is:\",lst1)\n",
        "lst1[-1] = 10\n",
        "print(\"\\n The modified list is:\",lst1)\n",
        "# This shows that lists are mutable, meaning their elements can be changed.\n",
        "\n",
        "# Tuple\n",
        "my_tuple = (1, 2, 3, 4, [5, \"apple\"])\n",
        "print(\"\\n The  tuple is:\",my_tuple)\n",
        "# my_tuple[0] = 10  (This will create a TypeError because tuples are immutable, meaning their elements cannot be changed once they are created)\n",
        "my_tuple[4][1] = \"Guava\"\n",
        "print(\"\\n The modified tuple is:\",my_tuple)\n",
        "# Elements cannot be added to the tuple, but if tuple contains a list, elements can be added to the list."
      ],
      "metadata": {
        "colab": {
          "base_uri": "https://localhost:8080/"
        },
        "id": "AlitJxmRYvOl",
        "outputId": "64f9eb36-36fb-4658-f9e3-7fc9cb65ba29"
      },
      "execution_count": 11,
      "outputs": [
        {
          "output_type": "stream",
          "name": "stdout",
          "text": [
            "The given list is: [1, 2, 3, 4, 'Apple']\n",
            "\n",
            " The modified list is: [1, 2, 3, 4, 10]\n",
            "\n",
            " The  tuple is: (1, 2, 3, 4, [5, 'apple'])\n",
            "\n",
            " The modified tuple is: (1, 2, 3, 4, [5, 'Guava'])\n"
          ]
        }
      ]
    },
    {
      "cell_type": "code",
      "source": [
        "# Question 6. Write a function to demonstrate the behavior of mutable and immutable arguments.\n",
        "\n",
        "# Answer:\n",
        "\n",
        "# Function to demonstrate mutable and immutable arguments\n",
        "\n",
        "def modify_values(num, lst):\n",
        "    # Modify the integer (immutable)\n",
        "    num += 10\n",
        "\n",
        "    # Modify the list (mutable)\n",
        "    lst.append(100)\n",
        "\n",
        "    print(\"\\nInside function:\")\n",
        "    print(\"num =\", num)\n",
        "    print(\"lst =\", lst)\n",
        "\n",
        "# Immutable example: integer\n",
        "x = 5\n",
        "# Mutable example: list\n",
        "my_list = [1, 2, 3]\n",
        "\n",
        "print(\"Before function call:\")\n",
        "print(\"x =\", x)\n",
        "print(\"my_list =\", my_list)\n",
        "\n",
        "# Function call\n",
        "modify_values(x, my_list)\n",
        "\n",
        "print(\"\\nAfter function call:\")\n",
        "print(\"x =\", x)            # unchanged outside function\n",
        "print(\"my_list =\", my_list) # changed outside function\n"
      ],
      "metadata": {
        "id": "s1IHweExbQy9",
        "colab": {
          "base_uri": "https://localhost:8080/"
        },
        "outputId": "de6424fe-7a54-4a17-cbf1-4225e192e283"
      },
      "execution_count": 12,
      "outputs": [
        {
          "output_type": "stream",
          "name": "stdout",
          "text": [
            "Before function call:\n",
            "x = 5\n",
            "my_list = [1, 2, 3]\n",
            "\n",
            "Inside function:\n",
            "num = 15\n",
            "lst = [1, 2, 3, 100]\n",
            "\n",
            "After function call:\n",
            "x = 5\n",
            "my_list = [1, 2, 3, 100]\n"
          ]
        }
      ]
    },
    {
      "cell_type": "code",
      "source": [
        "# Question 7. Write a program that performs basic arithmetic operations on two user-input numbers.\n",
        "\n",
        "# Answer:\n",
        "\n",
        "num1 = float(input(\"Enter the first number: \"))\n",
        "num2 = float(input(\"Enter the second number: \"))\n",
        "\n",
        "print(f\"Sum: {num1 + num2}\")\n",
        "print(f\"Difference: {num1 - num2}\")\n",
        "print(f\"Product: {num1 * num2}\")\n",
        "print(f\"Exponent: {num1 ** num2}\")\n",
        "\n",
        "if num2 != 0:\n",
        "    print(f\"Division: {num1 / num2}\")\n",
        "    print(f\"Remainder: {num1 % num2}\")\n",
        "    print(f\"Floor division: {num1 // num2}\")\n",
        "else:\n",
        "    print(\"Cannot perform division by 0.\")\n"
      ],
      "metadata": {
        "colab": {
          "base_uri": "https://localhost:8080/"
        },
        "id": "kI3avaD2mY_D",
        "outputId": "4657e9d4-d67d-48b2-82d4-769e13eed76d"
      },
      "execution_count": 13,
      "outputs": [
        {
          "output_type": "stream",
          "name": "stdout",
          "text": [
            "Enter the first number: 2\n",
            "Enter the second number: 4\n",
            "Sum: 6.0\n",
            "Difference: -2.0\n",
            "Product: 8.0\n",
            "Exponent: 16.0\n",
            "Division: 0.5\n",
            "Remainder: 2.0\n",
            "Floor division: 0.0\n"
          ]
        }
      ]
    },
    {
      "cell_type": "code",
      "source": [
        "# Question 8. Write a program to demonstrate the use of logical opeartors.\n",
        "\n",
        "# Answer:\n",
        "\n",
        "x = 10\n",
        "y = 5\n",
        "z = 15\n",
        "\n",
        "print(\"x > y and x < z:\", x > y and x < z)\n",
        "print(\"x < y or x > z:\", x < y or x > z)\n",
        "print(\"not(x > y):\", not(x > y))"
      ],
      "metadata": {
        "colab": {
          "base_uri": "https://localhost:8080/"
        },
        "id": "og-5o-IYo9rI",
        "outputId": "aa4c8984-cc80-4cd2-bc1f-072d9bf80668"
      },
      "execution_count": 15,
      "outputs": [
        {
          "output_type": "stream",
          "name": "stdout",
          "text": [
            "x > y and x < z: True\n",
            "x < y or x > z: False\n",
            "not(x > y): False\n"
          ]
        }
      ]
    },
    {
      "cell_type": "code",
      "source": [
        "# Question 9. Write a Python program to convert user input from string to integer, float, and boolean types.\n",
        "\n",
        "# Answer:\n",
        "\n",
        "age_str = input(\"Enter age: \")\n",
        "print(age_str)\n",
        "print(type(age_str))\n",
        "\n",
        "# Converting string to integer type\n",
        "age_int = int(age_str)\n",
        "print(age_int)\n",
        "print(type(age_int))\n",
        "\n",
        "# Converting string to float type\n",
        "age_float = float(age_str)\n",
        "print(age_float)\n",
        "print(type(age_float))\n",
        "\n",
        "# Converting string to boolean type\n",
        "age_boolean = bool(age_str)\n",
        "print(age_boolean)\n",
        "print(type(age_boolean))"
      ],
      "metadata": {
        "colab": {
          "base_uri": "https://localhost:8080/"
        },
        "id": "lRDmztSNqru-",
        "outputId": "639862ba-8de2-4845-cfad-51ad0aac3419"
      },
      "execution_count": 17,
      "outputs": [
        {
          "output_type": "stream",
          "name": "stdout",
          "text": [
            "Enter age: 21\n",
            "21\n",
            "<class 'str'>\n",
            "21\n",
            "<class 'int'>\n",
            "21.0\n",
            "<class 'float'>\n",
            "True\n",
            "<class 'bool'>\n"
          ]
        }
      ]
    },
    {
      "cell_type": "code",
      "source": [
        "# Question 10. Write code to demonstrate typecasting with list elements.\n",
        "\n",
        "# Answer:\n",
        "\n",
        "lst1 = [\"10\", \"20\", \"30\"]\n",
        "\n",
        "print(\"Original list:\", lst1)\n",
        "\n",
        "# Convert each element to integer\n",
        "lst1_int = [int(n) for n in lst1]\n",
        "print(\"After converting to integers:\", lst1_int)\n",
        "\n",
        "# Convert each element to float\n",
        "lst1_float = [float(n) for n in lst1]\n",
        "print(\"After converting to floats:\", lst1_float)"
      ],
      "metadata": {
        "id": "2ysLFCDurfqJ",
        "colab": {
          "base_uri": "https://localhost:8080/"
        },
        "outputId": "e36a9738-357e-40a1-db3f-c82c9dbeed59"
      },
      "execution_count": 20,
      "outputs": [
        {
          "output_type": "stream",
          "name": "stdout",
          "text": [
            "Original list: ['10', '20', '30']\n",
            "After converting to integers: [10, 20, 30]\n",
            "After converting to floats: [10.0, 20.0, 30.0]\n"
          ]
        }
      ]
    },
    {
      "cell_type": "code",
      "source": [
        "# Question 11. Write a program that checks if a number is positive, negative, or zero.\n",
        "\n",
        "# Answer:\n",
        "\n",
        "num = float(input(\"Enter a number:\"))\n",
        "if num > 0:\n",
        "  print(f\"{num} is a positive number.\")\n",
        "elif num < 0:\n",
        "  print(f\"{num} is a negative number.\")\n",
        "else:\n",
        "  print(\"Number is Zero.\")"
      ],
      "metadata": {
        "colab": {
          "base_uri": "https://localhost:8080/"
        },
        "id": "J3wJOEz2rm2R",
        "outputId": "cbdc4c82-a73b-4286-c0ba-f2cb0db34f58"
      },
      "execution_count": 23,
      "outputs": [
        {
          "output_type": "stream",
          "name": "stdout",
          "text": [
            "Enter a number:-8\n",
            "-8.0 is a negative number.\n"
          ]
        }
      ]
    },
    {
      "cell_type": "code",
      "source": [
        "# Question 12. Write a for loop to print numbers from 1 to 10.\n",
        "\n",
        "# Answer:\n",
        "\n",
        "for i in range(1,11):\n",
        "  print(i, end=\" \")"
      ],
      "metadata": {
        "colab": {
          "base_uri": "https://localhost:8080/"
        },
        "id": "fR4SP6QVrotz",
        "outputId": "c5311561-aa6a-4765-946f-ec02aba23fba"
      },
      "execution_count": 24,
      "outputs": [
        {
          "output_type": "stream",
          "name": "stdout",
          "text": [
            "1 2 3 4 5 6 7 8 9 10 "
          ]
        }
      ]
    },
    {
      "cell_type": "code",
      "source": [
        "# Question 13. Write a Python program to find the sum of all even numbers between 1 and 50.\n",
        "\n",
        "# Answer:\n",
        "\n",
        "total = 0\n",
        "for i in range(1, 51):\n",
        "    if i % 2 == 0:\n",
        "        total += i\n",
        "print(\"The sum of all even numbers between 1 and 50 is\", total)"
      ],
      "metadata": {
        "colab": {
          "base_uri": "https://localhost:8080/"
        },
        "id": "6fPW_cBzsK5E",
        "outputId": "d93e5c4a-36e3-40a7-b77f-1f4cf0efb7ca"
      },
      "execution_count": 25,
      "outputs": [
        {
          "output_type": "stream",
          "name": "stdout",
          "text": [
            "The sum of all even numbers between 1 and 50 is 650\n"
          ]
        }
      ]
    },
    {
      "cell_type": "code",
      "source": [
        "# Question 14. Write a program to reverse a string using a while loop.\n",
        "\n",
        "# Answer:\n",
        "\n",
        "str1 = input(\"Enter a string: \")\n",
        "i = len(str1) - 1\n",
        "reversed_str1 = \"\"\n",
        "while i >= 0:\n",
        "    reversed_str1 = reversed_str1 + str1[i]\n",
        "    i = i - 1\n",
        "print(\"Reversed string:\", reversed_str1)"
      ],
      "metadata": {
        "id": "asRtBrd1tL-K",
        "colab": {
          "base_uri": "https://localhost:8080/"
        },
        "outputId": "e3bb9de3-4d82-48a9-c704-250c4aeea801"
      },
      "execution_count": 27,
      "outputs": [
        {
          "output_type": "stream",
          "name": "stdout",
          "text": [
            "Enter a string: Monimoy\n",
            "Reversed string: yominoM\n"
          ]
        }
      ]
    },
    {
      "cell_type": "code",
      "source": [
        "# Question 15. Write a Python program to calculate the factorial of a number provided by the user using a while loop.\n",
        "\n",
        "# Answer:\n",
        "\n",
        "num = int(input(\"Enter a non-negative integer: \"))\n",
        "if num < 0:\n",
        "    print(\"Factorial is not defined for negative numbers.\")\n",
        "else:\n",
        "    factorial = 1\n",
        "    i = 1\n",
        "    while i <= num:\n",
        "        factorial *= i\n",
        "        i += 1\n",
        "    print(f\"The factorial of {num} is {factorial}\")"
      ],
      "metadata": {
        "id": "HhX8p_k7u1H3",
        "colab": {
          "base_uri": "https://localhost:8080/"
        },
        "outputId": "777f0ee3-9070-4565-9866-13b351d5ce59"
      },
      "execution_count": null,
      "outputs": [
        {
          "output_type": "stream",
          "name": "stdout",
          "text": [
            "Enter a non-negative integer: 5\n",
            "The factorial of 5 is 120\n"
          ]
        }
      ]
    }
  ]
}